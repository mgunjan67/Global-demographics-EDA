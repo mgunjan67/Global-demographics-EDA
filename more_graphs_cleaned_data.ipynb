{
 "cells": [
  {
   "cell_type": "code",
   "execution_count": 1,
   "metadata": {},
   "outputs": [],
   "source": [
    "import pandas as pd\n",
    "import matplotlib.pyplot as plt\n",
    "import seaborn as sns"
   ]
  },
  {
   "cell_type": "code",
   "execution_count": 2,
   "metadata": {},
   "outputs": [
    {
     "name": "stdout",
     "output_type": "stream",
     "text": [
      "<class 'pandas.core.frame.DataFrame'>\n",
      "RangeIndex: 6361410 entries, 0 to 6361409\n",
      "Data columns (total 14 columns):\n",
      " #   Column                                              Dtype  \n",
      "---  ------                                              -----  \n",
      " 0   Year                                                int64  \n",
      " 1   Economy                                             int64  \n",
      " 2   Economy Label                                       object \n",
      " 3   Sex                                                 int64  \n",
      " 4   Sex Label                                           object \n",
      " 5   AgeClass                                            int64  \n",
      " 6   AgeClass Label                                      object \n",
      " 7   Absolute value in thousands_x                       float64\n",
      " 8   Series                                              float64\n",
      " 9   Series Label                                        object \n",
      " 10  Persons per hundred persons aged 15-64              float64\n",
      " 11  Annual average growth rate                          float64\n",
      " 12  Absolute value in thousands_y                       float64\n",
      " 13  Urban population as percentage of total population  float64\n",
      "dtypes: float64(6), int64(4), object(4)\n",
      "memory usage: 679.5+ MB\n"
     ]
    }
   ],
   "source": [
    "df = pd.read_csv('cleaned_data.csv')\n",
    "df.info()"
   ]
  },
  {
   "cell_type": "markdown",
   "metadata": {},
   "source": [
    "<b>Heatmap</b> <br>\n",
    "<i>Illustrates relation between numeric variables. Highlights relationships and their positive, negative dependency.\n",
    "Value ranges from 0-1. Value closer to 1 illustrates that the respective variables are highly dependent with each other and the value close to 0 represents that the variable are lowly/not depended to each other.</i>"
   ]
  },
  {
   "cell_type": "code",
   "execution_count": null,
   "metadata": {},
   "outputs": [],
   "source": [
    "numeric_columns = df.select_dtypes(include=['float64', 'int64']).columns\n",
    "numeric_columns"
   ]
  },
  {
   "cell_type": "code",
   "execution_count": null,
   "metadata": {},
   "outputs": [],
   "source": [
    "correlation_matrix = df[numeric_columns].corr()"
   ]
  },
  {
   "cell_type": "code",
   "execution_count": null,
   "metadata": {},
   "outputs": [],
   "source": [
    "# Heatmap using Seaborn\n",
    "plt.figure(figsize=(10, 10))\n",
    "sns.heatmap(correlation_matrix, annot=True, cmap='coolwarm', linewidths=0.5)\n",
    "plt.title('Correlation Matrix Heatmap')\n",
    "plt.show()"
   ]
  },
  {
   "cell_type": "code",
   "execution_count": 3,
   "metadata": {},
   "outputs": [],
   "source": [
    "import plotly.express as px"
   ]
  },
  {
   "cell_type": "markdown",
   "metadata": {},
   "source": [
    "<b>Interactive LinePlot with plotly</b><br>\n",
    "<i>Good for visualizing trends over time.</i>"
   ]
  },
  {
   "cell_type": "code",
   "execution_count": null,
   "metadata": {},
   "outputs": [],
   "source": [
    "fig = px.line(df, x='Year', y='Annual average growth rate', color='Economy Label',\n",
    "              line_group='Economy Label', hover_name='Economy Label')\n",
    "fig.update_layout(title='Annual Average Growth Rate Over Time',\n",
    "                  xaxis_title='Year',\n",
    "                  yaxis_title='Annual Average Growth Rate')\n",
    "fig.show()\n"
   ]
  },
  {
   "cell_type": "markdown",
   "metadata": {},
   "source": [
    "<b>Interactive Scatter Plot with plotly</b><br>\n",
    "<i>This plot can reveal correlations or patterns and allows for easy exploration of specific points.</i>"
   ]
  },
  {
   "cell_type": "code",
   "execution_count": null,
   "metadata": {},
   "outputs": [],
   "source": [
    "fig = px.scatter(df, x='Urban population as percentage of total population', y='Annual average growth rate',\n",
    "                 color='Economy Label', hover_data=['Year', 'Economy Label'])\n",
    "fig.update_layout(title='Urban Population vs. Annual Growth Rate',\n",
    "                  xaxis_title='Urban Population as Percentage of Total Population',\n",
    "                  yaxis_title='Annual Average Growth Rate')\n",
    "fig.show()"
   ]
  },
  {
   "cell_type": "markdown",
   "metadata": {},
   "source": [
    "<b>Interactive Bar Plot with Plotly<b><br>\n",
    "<i>Effective for visualizing the frequency of categorical data, and interactivity allows users to explore specific economies.</i>"
   ]
  },
  {
   "cell_type": "code",
   "execution_count": null,
   "metadata": {},
   "outputs": [],
   "source": [
    "fig = px.bar(df, x='Economy Label', y=df.index, orientation='v', title='Count of Entries for Each Economy')\n",
    "fig.update_layout(xaxis_title='Economy', yaxis_title='Count', xaxis={'categoryorder': 'total descending'})\n",
    "fig.show()\n"
   ]
  }
 ],
 "metadata": {
  "kernelspec": {
   "display_name": "asn",
   "language": "python",
   "name": "python3"
  },
  "language_info": {
   "codemirror_mode": {
    "name": "ipython",
    "version": 3
   },
   "file_extension": ".py",
   "mimetype": "text/x-python",
   "name": "python",
   "nbconvert_exporter": "python",
   "pygments_lexer": "ipython3",
   "version": "3.10.11"
  }
 },
 "nbformat": 4,
 "nbformat_minor": 2
}
