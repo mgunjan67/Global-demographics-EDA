{
 "cells": [
  {
   "cell_type": "code",
   "execution_count": 1,
   "metadata": {},
   "outputs": [],
   "source": [
    "import pandas as pd"
   ]
  },
  {
   "cell_type": "code",
   "execution_count": 2,
   "metadata": {},
   "outputs": [
    {
     "data": {
      "text/html": [
       "<div>\n",
       "<style scoped>\n",
       "    .dataframe tbody tr th:only-of-type {\n",
       "        vertical-align: middle;\n",
       "    }\n",
       "\n",
       "    .dataframe tbody tr th {\n",
       "        vertical-align: top;\n",
       "    }\n",
       "\n",
       "    .dataframe thead th {\n",
       "        text-align: right;\n",
       "    }\n",
       "</style>\n",
       "<table border=\"1\" class=\"dataframe\">\n",
       "  <thead>\n",
       "    <tr style=\"text-align: right;\">\n",
       "      <th></th>\n",
       "      <th>Year</th>\n",
       "      <th>Economy</th>\n",
       "      <th>Economy Label</th>\n",
       "      <th>Sex</th>\n",
       "      <th>Sex Label</th>\n",
       "      <th>AgeClass</th>\n",
       "      <th>AgeClass Label</th>\n",
       "      <th>Absolute value in thousands_x</th>\n",
       "      <th>Series</th>\n",
       "      <th>Series Label</th>\n",
       "      <th>Persons per hundred persons aged 15-64</th>\n",
       "      <th>Annual average growth rate</th>\n",
       "      <th>Absolute value in thousands_y</th>\n",
       "      <th>Urban population as percentage of total population</th>\n",
       "    </tr>\n",
       "  </thead>\n",
       "  <tbody>\n",
       "    <tr>\n",
       "      <th>0</th>\n",
       "      <td>1950</td>\n",
       "      <td>0</td>\n",
       "      <td>World</td>\n",
       "      <td>0</td>\n",
       "      <td>Both sexes</td>\n",
       "      <td>0</td>\n",
       "      <td>All age classes</td>\n",
       "      <td>2499322.166</td>\n",
       "      <td>7120.0</td>\n",
       "      <td>Total dependency ratio</td>\n",
       "      <td>66.242</td>\n",
       "      <td>1.73762</td>\n",
       "      <td>2499322.166</td>\n",
       "      <td>29.63511</td>\n",
       "    </tr>\n",
       "    <tr>\n",
       "      <th>1</th>\n",
       "      <td>1950</td>\n",
       "      <td>0</td>\n",
       "      <td>World</td>\n",
       "      <td>0</td>\n",
       "      <td>Both sexes</td>\n",
       "      <td>0</td>\n",
       "      <td>All age classes</td>\n",
       "      <td>2499322.166</td>\n",
       "      <td>7121.0</td>\n",
       "      <td>Old-age dependency ratio</td>\n",
       "      <td>8.528</td>\n",
       "      <td>1.73762</td>\n",
       "      <td>2499322.166</td>\n",
       "      <td>29.63511</td>\n",
       "    </tr>\n",
       "    <tr>\n",
       "      <th>2</th>\n",
       "      <td>1950</td>\n",
       "      <td>0</td>\n",
       "      <td>World</td>\n",
       "      <td>0</td>\n",
       "      <td>Both sexes</td>\n",
       "      <td>0</td>\n",
       "      <td>All age classes</td>\n",
       "      <td>2499322.166</td>\n",
       "      <td>7122.0</td>\n",
       "      <td>Child dependency ratio</td>\n",
       "      <td>57.714</td>\n",
       "      <td>1.73762</td>\n",
       "      <td>2499322.166</td>\n",
       "      <td>29.63511</td>\n",
       "    </tr>\n",
       "    <tr>\n",
       "      <th>3</th>\n",
       "      <td>1950</td>\n",
       "      <td>0</td>\n",
       "      <td>World</td>\n",
       "      <td>0</td>\n",
       "      <td>Both sexes</td>\n",
       "      <td>1</td>\n",
       "      <td>[0-4]</td>\n",
       "      <td>341876.795</td>\n",
       "      <td>7120.0</td>\n",
       "      <td>Total dependency ratio</td>\n",
       "      <td>66.242</td>\n",
       "      <td>1.73762</td>\n",
       "      <td>2499322.166</td>\n",
       "      <td>29.63511</td>\n",
       "    </tr>\n",
       "    <tr>\n",
       "      <th>4</th>\n",
       "      <td>1950</td>\n",
       "      <td>0</td>\n",
       "      <td>World</td>\n",
       "      <td>0</td>\n",
       "      <td>Both sexes</td>\n",
       "      <td>1</td>\n",
       "      <td>[0-4]</td>\n",
       "      <td>341876.795</td>\n",
       "      <td>7121.0</td>\n",
       "      <td>Old-age dependency ratio</td>\n",
       "      <td>8.528</td>\n",
       "      <td>1.73762</td>\n",
       "      <td>2499322.166</td>\n",
       "      <td>29.63511</td>\n",
       "    </tr>\n",
       "  </tbody>\n",
       "</table>\n",
       "</div>"
      ],
      "text/plain": [
       "   Year  Economy Economy Label  Sex   Sex Label  AgeClass   AgeClass Label  \\\n",
       "0  1950        0         World    0  Both sexes         0  All age classes   \n",
       "1  1950        0         World    0  Both sexes         0  All age classes   \n",
       "2  1950        0         World    0  Both sexes         0  All age classes   \n",
       "3  1950        0         World    0  Both sexes         1            [0-4]   \n",
       "4  1950        0         World    0  Both sexes         1            [0-4]   \n",
       "\n",
       "   Absolute value in thousands_x  Series              Series Label  \\\n",
       "0                    2499322.166  7120.0    Total dependency ratio   \n",
       "1                    2499322.166  7121.0  Old-age dependency ratio   \n",
       "2                    2499322.166  7122.0    Child dependency ratio   \n",
       "3                     341876.795  7120.0    Total dependency ratio   \n",
       "4                     341876.795  7121.0  Old-age dependency ratio   \n",
       "\n",
       "   Persons per hundred persons aged 15-64  Annual average growth rate  \\\n",
       "0                                  66.242                     1.73762   \n",
       "1                                   8.528                     1.73762   \n",
       "2                                  57.714                     1.73762   \n",
       "3                                  66.242                     1.73762   \n",
       "4                                   8.528                     1.73762   \n",
       "\n",
       "   Absolute value in thousands_y  \\\n",
       "0                    2499322.166   \n",
       "1                    2499322.166   \n",
       "2                    2499322.166   \n",
       "3                    2499322.166   \n",
       "4                    2499322.166   \n",
       "\n",
       "   Urban population as percentage of total population  \n",
       "0                                           29.63511   \n",
       "1                                           29.63511   \n",
       "2                                           29.63511   \n",
       "3                                           29.63511   \n",
       "4                                           29.63511   "
      ]
     },
     "execution_count": 2,
     "metadata": {},
     "output_type": "execute_result"
    }
   ],
   "source": [
    "df = pd.read_csv('cleaned_data.csv')\n",
    "df.head()"
   ]
  },
  {
   "cell_type": "code",
   "execution_count": 3,
   "metadata": {},
   "outputs": [
    {
     "name": "stdout",
     "output_type": "stream",
     "text": [
      "<class 'pandas.core.frame.DataFrame'>\n",
      "RangeIndex: 6361410 entries, 0 to 6361409\n",
      "Data columns (total 14 columns):\n",
      " #   Column                                              Dtype  \n",
      "---  ------                                              -----  \n",
      " 0   Year                                                int64  \n",
      " 1   Economy                                             int64  \n",
      " 2   Economy Label                                       object \n",
      " 3   Sex                                                 int64  \n",
      " 4   Sex Label                                           object \n",
      " 5   AgeClass                                            int64  \n",
      " 6   AgeClass Label                                      object \n",
      " 7   Absolute value in thousands_x                       float64\n",
      " 8   Series                                              float64\n",
      " 9   Series Label                                        object \n",
      " 10  Persons per hundred persons aged 15-64              float64\n",
      " 11  Annual average growth rate                          float64\n",
      " 12  Absolute value in thousands_y                       float64\n",
      " 13  Urban population as percentage of total population  float64\n",
      "dtypes: float64(6), int64(4), object(4)\n",
      "memory usage: 679.5+ MB\n"
     ]
    }
   ],
   "source": [
    "df.info()"
   ]
  },
  {
   "cell_type": "code",
   "execution_count": 10,
   "metadata": {},
   "outputs": [
    {
     "name": "stdout",
     "output_type": "stream",
     "text": [
      "101\n",
      "[1950 1951 1952 1953 1954 1955 1956 1957 1958 1959 1960 1961 1962 1963\n",
      " 1964 1965 1966 1967 1968 1969 1970 1971 1972 1973 1974 1975 1976 1977\n",
      " 1978 1979 1980 1981 1982 1983 1984 1985 1986 1987 1988 1989 1990 1991\n",
      " 1992 1993 1994 1995 1996 1997 1998 1999 2000 2001 2002 2003 2004 2005\n",
      " 2006 2007 2008 2009 2010 2011 2012 2013 2014 2015 2016 2017 2018 2019\n",
      " 2020 2021 2022 2023 2024 2025 2026 2027 2028 2029 2030 2031 2032 2033\n",
      " 2034 2035 2036 2037 2038 2039 2040 2041 2042 2043 2044 2045 2046 2047\n",
      " 2048 2049 2050]\n"
     ]
    }
   ],
   "source": [
    "print(df['Year'].nunique())\n",
    "print(df['Year'].unique())"
   ]
  },
  {
   "cell_type": "code",
   "execution_count": 11,
   "metadata": {},
   "outputs": [
    {
     "name": "stdout",
     "output_type": "stream",
     "text": [
      "313\n",
      "[   0    1    4    8   12   16   20   24   28   31   32   36   40   44\n",
      "   48   50   51   52   56   60   64   68   70   72   76   84   90   92\n",
      "   96  100  104  108  112  116  120  124  132  136  140  144  148  152\n",
      "  156  158  170  174  175  178  180  184  188  191  192  196  200  203\n",
      "  204  208  212  214  218  222  226  230  231  232  233  234  238  242\n",
      "  246  250  251  254  258  262  266  268  270  275  276  280  288  292\n",
      "  296  300  304  308  312  316  320  324  328  332  336  340  344  348\n",
      "  352  356  360  364  368  372  376  380  384  388  392  398  400  404\n",
      "  408  410  414  417  418  422  426  428  430  434  438  440  442  446\n",
      "  450  454  458  462  466  470  474  478  480  484  492  496  498  499\n",
      "  500  504  508  512  516  520  524  528  530  531  533  534  535  540\n",
      "  548  554  558  562  566  570  579  580  582  583  584  585  586  590\n",
      "  591  598  600  604  608  616  620  624  626  630  634  638  642  643\n",
      "  646  652  654  659  660  662  663  666  670  674  678  682  686  688\n",
      "  690  694  702  703  704  705  706  710  716  720  724  728  729  732\n",
      "  736  740  748  752  756  757  760  762  764  768  772  776  780  784\n",
      "  788  792  795  796  798  800  804  807  810  818  826  830  833  834\n",
      "  840  841  842  850  854  858  860  862  876  882  887  890  891  894\n",
      "  926  960 1400 1410 1420 1430 1450 1460 1500 1520 1530 1540 1550 1560\n",
      " 1600 1601 1610 1612 1614 1615 1620 1640 2621 2622 2623 2711 3412 3905\n",
      " 3916 3919 5100 5110 5120 5121 5122 5123 5124 5200 5210 5220 5221 5222\n",
      " 5223 5300 5320 5330 5340 5350 5400 5410 5420 5430 5440 5500 5600 5702\n",
      " 5703 5704 5705 5706 5310]\n"
     ]
    }
   ],
   "source": [
    "print(df['Economy'].nunique())\n",
    "print(df['Economy'].unique())"
   ]
  },
  {
   "cell_type": "code",
   "execution_count": 12,
   "metadata": {},
   "outputs": [
    {
     "name": "stdout",
     "output_type": "stream",
     "text": [
      "313\n",
      "['World' 'Individual economies' 'Afghanistan' 'Albania' 'Algeria'\n",
      " 'American Samoa' 'Andorra' 'Angola' 'Antigua and Barbuda' 'Azerbaijan'\n",
      " 'Argentina' 'Australia' 'Austria' 'Bahamas' 'Bahrain' 'Bangladesh'\n",
      " 'Armenia' 'Barbados' 'Belgium' 'Bermuda' 'Bhutan'\n",
      " 'Bolivia (Plurinational State of)' 'Bosnia and Herzegovina' 'Botswana'\n",
      " 'Brazil' 'Belize' 'Solomon Islands' 'British Virgin Islands'\n",
      " 'Brunei Darussalam' 'Bulgaria' 'Myanmar' 'Burundi' 'Belarus' 'Cambodia'\n",
      " 'Cameroon' 'Canada' 'Cabo Verde' 'Cayman Islands'\n",
      " 'Central African Republic' 'Sri Lanka' 'Chad' 'Chile' 'China'\n",
      " 'China, Taiwan Province of' 'Colombia' 'Comoros' 'Mayotte' 'Congo'\n",
      " 'Congo, Dem. Rep. of the' 'Cook Islands' 'Costa Rica' 'Croatia' 'Cuba'\n",
      " 'Cyprus' 'Czechoslovakia' 'Czechia' 'Benin' 'Denmark' 'Dominica'\n",
      " 'Dominican Republic' 'Ecuador' 'El Salvador' 'Equatorial Guinea'\n",
      " 'Ethiopia (...1991)' 'Ethiopia' 'Eritrea' 'Estonia' 'Faroe Islands'\n",
      " 'Falkland Islands (Malvinas)' 'Fiji' 'Finland' 'France, metropolitan'\n",
      " 'France' 'French Guiana' 'French Polynesia' 'Djibouti' 'Gabon' 'Georgia'\n",
      " 'Gambia' 'State of Palestine' 'Germany' 'Germany, Federal Republic of'\n",
      " 'Ghana' 'Gibraltar' 'Kiribati' 'Greece' 'Greenland' 'Grenada'\n",
      " 'Guadeloupe' 'Guam' 'Guatemala' 'Guinea' 'Guyana' 'Haiti' 'Holy See'\n",
      " 'Honduras' 'China, Hong Kong SAR' 'Hungary' 'Iceland' 'India' 'Indonesia'\n",
      " 'Iran (Islamic Republic of)' 'Iraq' 'Ireland' 'Israel' 'Italy'\n",
      " \"Côte d'Ivoire\" 'Jamaica' 'Japan' 'Kazakhstan' 'Jordan' 'Kenya'\n",
      " \"Korea, Dem. People's Rep. of\" 'Korea, Republic of' 'Kuwait' 'Kyrgyzstan'\n",
      " \"Lao People's Dem. Rep.\" 'Lebanon' 'Lesotho' 'Latvia' 'Liberia' 'Libya'\n",
      " 'Liechtenstein' 'Lithuania' 'Luxembourg' 'China, Macao SAR' 'Madagascar'\n",
      " 'Malawi' 'Malaysia' 'Maldives' 'Mali' 'Malta' 'Martinique' 'Mauritania'\n",
      " 'Mauritius' 'Mexico' 'Monaco' 'Mongolia' 'Moldova, Republic of'\n",
      " 'Montenegro' 'Montserrat' 'Morocco' 'Mozambique' 'Oman' 'Namibia' 'Nauru'\n",
      " 'Nepal' 'Netherlands (Kingdom of the)' 'Netherlands Antilles' 'Curaçao'\n",
      " 'Aruba' 'Sint Maarten (Dutch part)' 'Bonaire, Sint Eustatius and Saba'\n",
      " 'New Caledonia' 'Vanuatu' 'New Zealand' 'Nicaragua' 'Niger' 'Nigeria'\n",
      " 'Niue' 'Norway' 'Northern Mariana Islands'\n",
      " 'Pacific Islands, Trust Territory' 'Micronesia (Federated States of)'\n",
      " 'Marshall Islands' 'Palau' 'Pakistan' 'Panama, excluding Canal Zone'\n",
      " 'Panama' 'Papua New Guinea' 'Paraguay' 'Peru' 'Philippines' 'Poland'\n",
      " 'Portugal' 'Guinea-Bissau' 'Timor-Leste' 'Puerto Rico' 'Qatar' 'Réunion'\n",
      " 'Romania' 'Russian Federation' 'Rwanda' 'Saint Barthélemy' 'Saint Helena'\n",
      " 'Saint Kitts and Nevis' 'Anguilla' 'Saint Lucia'\n",
      " 'Saint Martin (French part)' 'Saint Pierre and Miquelon'\n",
      " 'Saint Vincent and the Grenadines' 'San Marino' 'Sao Tome and Principe'\n",
      " 'Saudi Arabia' 'Senegal' 'Serbia' 'Seychelles' 'Sierra Leone' 'Singapore'\n",
      " 'Slovakia' 'Viet Nam' 'Slovenia' 'Somalia' 'South Africa' 'Zimbabwe'\n",
      " 'Yemen, Democratic' 'Spain' 'South Sudan' 'Sudan' 'Western Sahara'\n",
      " 'Sudan (...2011)' 'Suriname' 'Eswatini' 'Sweden' 'Switzerland'\n",
      " 'Switzerland, Liechtenstein' 'Syrian Arab Republic' 'Tajikistan'\n",
      " 'Thailand' 'Togo' 'Tokelau' 'Tonga' 'Trinidad and Tobago'\n",
      " 'United Arab Emirates' 'Tunisia' 'Türkiye' 'Turkmenistan'\n",
      " 'Turks and Caicos Islands' 'Tuvalu' 'Uganda' 'Ukraine' 'North Macedonia'\n",
      " 'Union of Soviet Socialist Republics' 'Egypt'\n",
      " 'United Kingdom excl. Channel Islands and Isle of Man' 'Channel Islands'\n",
      " 'Isle of Man' 'Tanzania, United Republic of'\n",
      " 'United States of America excluding Puerto Rico and United States Virgin Islands'\n",
      " 'United States of America including Puerto Rico'\n",
      " 'United States of America' 'United States Virgin Islands' 'Burkina Faso'\n",
      " 'Uruguay' 'Uzbekistan' 'Venezuela (Bolivarian Rep. of)'\n",
      " 'Wallis and Futuna Islands' 'Samoa' 'Yemen'\n",
      " 'Yugoslavia, Soc. Fed. Rep. of' 'Serbia and Montenegro' 'Zambia'\n",
      " 'United Kingdom' 'Indonesia (...2002)' 'Developing economies'\n",
      " 'Developing economies: Africa' 'Developing economies: Americas'\n",
      " 'Developing economies: Asia' 'Developing economies: Oceania'\n",
      " 'Developing economies: Asia and Oceania' 'Developed economies'\n",
      " 'Developed economies: Americas' 'Developed economies: Asia'\n",
      " 'Developed economies: Europe' 'Developed economies: Oceania'\n",
      " 'Developed economies: Asia and Oceania'\n",
      " 'Developing economies excluding China'\n",
      " 'Developing economies excluding LDCs' 'LDCs (Least developed countries)'\n",
      " 'LDCs: Asia' 'LDCs: Africa' 'LDCs: Islands and Haiti'\n",
      " 'LLDCs (Landlocked developing countries)'\n",
      " 'SIDS (Small island developing States) (UN-OHRLLS)'\n",
      " 'High-income developing economies' 'Middle-income developing economies'\n",
      " 'Low-income developing economies' 'BRICS' 'European Union (2020 …)'\n",
      " 'OECD (Organisation for Economic Cooperation and Development)'\n",
      " 'G20 (Group of Twenty)' 'G-77 (Group of 77)' 'Africa' 'Northern Africa'\n",
      " 'Sub-Saharan Africa' 'Eastern Africa' 'Middle Africa' 'Southern Africa'\n",
      " 'Western Africa' 'Americas' 'Northern America'\n",
      " 'Latin America and the Caribbean' 'Caribbean' 'Central America'\n",
      " 'South America' 'Asia' 'Southern Asia' 'Eastern Asia' 'Western Asia'\n",
      " 'South-eastern Asia' 'Europe' 'Eastern Europe' 'Northern Europe'\n",
      " 'Southern Europe' 'Western Europe' 'Oceania' 'Asia and Oceania'\n",
      " 'Northern America and Europe' 'Central and Southern Asia'\n",
      " 'Eastern and South-Eastern Asia' 'Western Asia and Northern Africa'\n",
      " 'Europe, Northern America, Australia and New Zealand' 'Central Asia']\n"
     ]
    }
   ],
   "source": [
    "print(df['Economy Label'].nunique())\n",
    "print(df['Economy Label'].unique())"
   ]
  },
  {
   "cell_type": "code",
   "execution_count": 13,
   "metadata": {},
   "outputs": [
    {
     "name": "stdout",
     "output_type": "stream",
     "text": [
      "3\n",
      "[0 2 1]\n"
     ]
    }
   ],
   "source": [
    "print(df['Sex'].nunique())\n",
    "print(df['Sex'].unique())"
   ]
  },
  {
   "cell_type": "code",
   "execution_count": 14,
   "metadata": {},
   "outputs": [
    {
     "name": "stdout",
     "output_type": "stream",
     "text": [
      "3\n",
      "['Both sexes' 'Male' 'Female']\n"
     ]
    }
   ],
   "source": [
    "print(df['Sex Label'].nunique())\n",
    "print(df['Sex Label'].unique())"
   ]
  },
  {
   "cell_type": "code",
   "execution_count": 15,
   "metadata": {},
   "outputs": [
    {
     "name": "stdout",
     "output_type": "stream",
     "text": [
      "22\n",
      "[ 0  1  2  3  4  5  6  7  8  9 10 11 12 13 14 15 16 17 18 19 20 21]\n"
     ]
    }
   ],
   "source": [
    "print(df['AgeClass'].nunique())\n",
    "print(df['AgeClass'].unique())"
   ]
  },
  {
   "cell_type": "code",
   "execution_count": 16,
   "metadata": {},
   "outputs": [
    {
     "name": "stdout",
     "output_type": "stream",
     "text": [
      "22\n",
      "['All age classes' '[0-4]' '[5-9]' '[10-14]' '[15-19]' '[20-24]' '[25-29]'\n",
      " '[30-34]' '[35-39]' '[40-44]' '[45-49]' '[50-54]' '[55-59]' '[60-64]'\n",
      " '[65-69]' '[70-74]' '[75-79]' '[80-84]' '[85-89]' '[90-94]' '[95-99]'\n",
      " '[100+]']\n"
     ]
    }
   ],
   "source": [
    "print(df['AgeClass Label'].nunique())\n",
    "print(df['AgeClass Label'].unique())"
   ]
  },
  {
   "cell_type": "code",
   "execution_count": 17,
   "metadata": {},
   "outputs": [
    {
     "name": "stdout",
     "output_type": "stream",
     "text": [
      "930941\n",
      "[2.49932217e+06 3.41876795e+05 2.67730584e+05 ... 1.27403190e+04\n",
      " 4.39807800e+03 8.03540000e+02]\n"
     ]
    }
   ],
   "source": [
    "print(df['Absolute value in thousands_x'].nunique())\n",
    "print(df['Absolute value in thousands_x'].unique())"
   ]
  },
  {
   "cell_type": "code",
   "execution_count": 18,
   "metadata": {},
   "outputs": [
    {
     "name": "stdout",
     "output_type": "stream",
     "text": [
      "3\n",
      "[7120. 7121. 7122.]\n"
     ]
    }
   ],
   "source": [
    "print(df['Series'].nunique())\n",
    "print(df['Series'].unique())"
   ]
  },
  {
   "cell_type": "code",
   "execution_count": 19,
   "metadata": {},
   "outputs": [
    {
     "name": "stdout",
     "output_type": "stream",
     "text": [
      "3\n",
      "['Total dependency ratio' 'Old-age dependency ratio'\n",
      " 'Child dependency ratio']\n"
     ]
    }
   ],
   "source": [
    "print(df['Series Label'].nunique())\n",
    "print(df['Series Label'].unique())"
   ]
  },
  {
   "cell_type": "code",
   "execution_count": 20,
   "metadata": {},
   "outputs": [
    {
     "name": "stdout",
     "output_type": "stream",
     "text": [
      "54585\n",
      "[66.242  8.528 57.714 ... 30.027 23.237 55.957]\n"
     ]
    }
   ],
   "source": [
    "print(df['Persons per hundred persons aged 15-64'].nunique())\n",
    "print(df['Persons per hundred persons aged 15-64'].unique())"
   ]
  },
  {
   "cell_type": "code",
   "execution_count": 21,
   "metadata": {},
   "outputs": [
    {
     "name": "stdout",
     "output_type": "stream",
     "text": [
      "28027\n",
      "[ 1.73762     1.39921977  1.21017    ... -0.34831     0.87446\n",
      " -0.10988   ]\n"
     ]
    }
   ],
   "source": [
    "print(df['Annual average growth rate'].nunique())\n",
    "print(df['Annual average growth rate'].unique())"
   ]
  },
  {
   "cell_type": "code",
   "execution_count": 22,
   "metadata": {},
   "outputs": [
    {
     "name": "stdout",
     "output_type": "stream",
     "text": [
      "28488\n",
      "[2499322.166       278501.14684478    7480.461      ... 2312468.345\n",
      "  772632.761      1169443.028     ]\n"
     ]
    }
   ],
   "source": [
    "print(df['Absolute value in thousands_y'].nunique())\n",
    "print(df['Absolute value in thousands_y'].unique())"
   ]
  },
  {
   "cell_type": "code",
   "execution_count": 23,
   "metadata": {},
   "outputs": [
    {
     "name": "stdout",
     "output_type": "stream",
     "text": [
      "27191\n",
      "[29.63511    55.23505361  6.         ... 76.14752    72.71511\n",
      " 85.78388   ]\n"
     ]
    }
   ],
   "source": [
    "print(df['Urban population as percentage of total population'].nunique())\n",
    "print(df['Urban population as percentage of total population'].unique())"
   ]
  }
 ],
 "metadata": {
  "kernelspec": {
   "display_name": "asn",
   "language": "python",
   "name": "python3"
  },
  "language_info": {
   "codemirror_mode": {
    "name": "ipython",
    "version": 3
   },
   "file_extension": ".py",
   "mimetype": "text/x-python",
   "name": "python",
   "nbconvert_exporter": "python",
   "pygments_lexer": "ipython3",
   "version": "3.10.11"
  }
 },
 "nbformat": 4,
 "nbformat_minor": 2
}
