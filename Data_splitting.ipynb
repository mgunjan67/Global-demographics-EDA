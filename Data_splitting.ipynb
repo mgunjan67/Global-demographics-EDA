{
 "cells": [
  {
   "cell_type": "code",
   "execution_count": 1,
   "metadata": {},
   "outputs": [],
   "source": [
    "import pandas as pd"
   ]
  },
  {
   "cell_type": "code",
   "execution_count": 2,
   "metadata": {},
   "outputs": [],
   "source": [
    "df = pd.read_csv('cleaned_data.csv')"
   ]
  },
  {
   "cell_type": "code",
   "execution_count": 3,
   "metadata": {},
   "outputs": [
    {
     "data": {
      "text/html": [
       "<div>\n",
       "<style scoped>\n",
       "    .dataframe tbody tr th:only-of-type {\n",
       "        vertical-align: middle;\n",
       "    }\n",
       "\n",
       "    .dataframe tbody tr th {\n",
       "        vertical-align: top;\n",
       "    }\n",
       "\n",
       "    .dataframe thead th {\n",
       "        text-align: right;\n",
       "    }\n",
       "</style>\n",
       "<table border=\"1\" class=\"dataframe\">\n",
       "  <thead>\n",
       "    <tr style=\"text-align: right;\">\n",
       "      <th></th>\n",
       "      <th>Year</th>\n",
       "      <th>Economy</th>\n",
       "      <th>Economy Label</th>\n",
       "      <th>Sex</th>\n",
       "      <th>Sex Label</th>\n",
       "      <th>AgeClass</th>\n",
       "      <th>AgeClass Label</th>\n",
       "      <th>Absolute value in thousands_x</th>\n",
       "      <th>Series</th>\n",
       "      <th>Series Label</th>\n",
       "      <th>Persons per hundred persons aged 15-64</th>\n",
       "      <th>Annual average growth rate</th>\n",
       "      <th>Absolute value in thousands_y</th>\n",
       "      <th>Urban population as percentage of total population</th>\n",
       "    </tr>\n",
       "  </thead>\n",
       "  <tbody>\n",
       "    <tr>\n",
       "      <th>0</th>\n",
       "      <td>1950</td>\n",
       "      <td>0</td>\n",
       "      <td>World</td>\n",
       "      <td>0</td>\n",
       "      <td>Both sexes</td>\n",
       "      <td>0</td>\n",
       "      <td>All age classes</td>\n",
       "      <td>2499322.166</td>\n",
       "      <td>7120.0</td>\n",
       "      <td>Total dependency ratio</td>\n",
       "      <td>66.242</td>\n",
       "      <td>1.73762</td>\n",
       "      <td>2499322.166</td>\n",
       "      <td>29.63511</td>\n",
       "    </tr>\n",
       "    <tr>\n",
       "      <th>1</th>\n",
       "      <td>1950</td>\n",
       "      <td>0</td>\n",
       "      <td>World</td>\n",
       "      <td>0</td>\n",
       "      <td>Both sexes</td>\n",
       "      <td>0</td>\n",
       "      <td>All age classes</td>\n",
       "      <td>2499322.166</td>\n",
       "      <td>7121.0</td>\n",
       "      <td>Old-age dependency ratio</td>\n",
       "      <td>8.528</td>\n",
       "      <td>1.73762</td>\n",
       "      <td>2499322.166</td>\n",
       "      <td>29.63511</td>\n",
       "    </tr>\n",
       "    <tr>\n",
       "      <th>2</th>\n",
       "      <td>1950</td>\n",
       "      <td>0</td>\n",
       "      <td>World</td>\n",
       "      <td>0</td>\n",
       "      <td>Both sexes</td>\n",
       "      <td>0</td>\n",
       "      <td>All age classes</td>\n",
       "      <td>2499322.166</td>\n",
       "      <td>7122.0</td>\n",
       "      <td>Child dependency ratio</td>\n",
       "      <td>57.714</td>\n",
       "      <td>1.73762</td>\n",
       "      <td>2499322.166</td>\n",
       "      <td>29.63511</td>\n",
       "    </tr>\n",
       "    <tr>\n",
       "      <th>3</th>\n",
       "      <td>1950</td>\n",
       "      <td>0</td>\n",
       "      <td>World</td>\n",
       "      <td>0</td>\n",
       "      <td>Both sexes</td>\n",
       "      <td>1</td>\n",
       "      <td>[0-4]</td>\n",
       "      <td>341876.795</td>\n",
       "      <td>7120.0</td>\n",
       "      <td>Total dependency ratio</td>\n",
       "      <td>66.242</td>\n",
       "      <td>1.73762</td>\n",
       "      <td>2499322.166</td>\n",
       "      <td>29.63511</td>\n",
       "    </tr>\n",
       "    <tr>\n",
       "      <th>4</th>\n",
       "      <td>1950</td>\n",
       "      <td>0</td>\n",
       "      <td>World</td>\n",
       "      <td>0</td>\n",
       "      <td>Both sexes</td>\n",
       "      <td>1</td>\n",
       "      <td>[0-4]</td>\n",
       "      <td>341876.795</td>\n",
       "      <td>7121.0</td>\n",
       "      <td>Old-age dependency ratio</td>\n",
       "      <td>8.528</td>\n",
       "      <td>1.73762</td>\n",
       "      <td>2499322.166</td>\n",
       "      <td>29.63511</td>\n",
       "    </tr>\n",
       "  </tbody>\n",
       "</table>\n",
       "</div>"
      ],
      "text/plain": [
       "   Year  Economy Economy Label  Sex   Sex Label  AgeClass   AgeClass Label  \\\n",
       "0  1950        0         World    0  Both sexes         0  All age classes   \n",
       "1  1950        0         World    0  Both sexes         0  All age classes   \n",
       "2  1950        0         World    0  Both sexes         0  All age classes   \n",
       "3  1950        0         World    0  Both sexes         1            [0-4]   \n",
       "4  1950        0         World    0  Both sexes         1            [0-4]   \n",
       "\n",
       "   Absolute value in thousands_x  Series              Series Label  \\\n",
       "0                    2499322.166  7120.0    Total dependency ratio   \n",
       "1                    2499322.166  7121.0  Old-age dependency ratio   \n",
       "2                    2499322.166  7122.0    Child dependency ratio   \n",
       "3                     341876.795  7120.0    Total dependency ratio   \n",
       "4                     341876.795  7121.0  Old-age dependency ratio   \n",
       "\n",
       "   Persons per hundred persons aged 15-64  Annual average growth rate  \\\n",
       "0                                  66.242                     1.73762   \n",
       "1                                   8.528                     1.73762   \n",
       "2                                  57.714                     1.73762   \n",
       "3                                  66.242                     1.73762   \n",
       "4                                   8.528                     1.73762   \n",
       "\n",
       "   Absolute value in thousands_y  \\\n",
       "0                    2499322.166   \n",
       "1                    2499322.166   \n",
       "2                    2499322.166   \n",
       "3                    2499322.166   \n",
       "4                    2499322.166   \n",
       "\n",
       "   Urban population as percentage of total population  \n",
       "0                                           29.63511   \n",
       "1                                           29.63511   \n",
       "2                                           29.63511   \n",
       "3                                           29.63511   \n",
       "4                                           29.63511   "
      ]
     },
     "execution_count": 3,
     "metadata": {},
     "output_type": "execute_result"
    }
   ],
   "source": [
    "df.head()"
   ]
  },
  {
   "cell_type": "code",
   "execution_count": 4,
   "metadata": {},
   "outputs": [],
   "source": [
    "from sklearn.model_selection import train_test_split"
   ]
  },
  {
   "cell_type": "code",
   "execution_count": 7,
   "metadata": {},
   "outputs": [],
   "source": [
    "train_df, temp_df = train_test_split(df, test_size=0.3, random_state=42)\n",
    "val_df, test_df = train_test_split(temp_df, test_size=0.667, random_state=42)"
   ]
  },
  {
   "cell_type": "code",
   "execution_count": 8,
   "metadata": {},
   "outputs": [
    {
     "name": "stdout",
     "output_type": "stream",
     "text": [
      "(4452987, 14)\n",
      "(1272919, 14)\n",
      "(635504, 14)\n"
     ]
    }
   ],
   "source": [
    "print(train_df.shape)\n",
    "print(test_df.shape)\n",
    "print(val_df.shape)"
   ]
  },
  {
   "cell_type": "code",
   "execution_count": 9,
   "metadata": {},
   "outputs": [],
   "source": [
    "train_df.to_csv('train_data.csv', index=False)\n",
    "val_df.to_csv('validation_data.csv', index=False)\n",
    "test_df.to_csv('test_data.csv', index=False)"
   ]
  }
 ],
 "metadata": {
  "kernelspec": {
   "display_name": "asn",
   "language": "python",
   "name": "python3"
  },
  "language_info": {
   "codemirror_mode": {
    "name": "ipython",
    "version": 3
   },
   "file_extension": ".py",
   "mimetype": "text/x-python",
   "name": "python",
   "nbconvert_exporter": "python",
   "pygments_lexer": "ipython3",
   "version": "3.10.11"
  }
 },
 "nbformat": 4,
 "nbformat_minor": 2
}
