{
 "cells": [
  {
   "cell_type": "code",
   "execution_count": 2,
   "metadata": {},
   "outputs": [],
   "source": [
    "import numpy as np\n",
    "import pandas as pd"
   ]
  },
  {
   "cell_type": "markdown",
   "metadata": {},
   "source": [
    "Dataset Link - https://www.kaggle.com/datasets/programmerrdai/global-demographic-dynamics-population-trends/data"
   ]
  },
  {
   "cell_type": "code",
   "execution_count": 3,
   "metadata": {},
   "outputs": [
    {
     "name": "stderr",
     "output_type": "stream",
     "text": [
      "C:\\Users\\Dell\\AppData\\Local\\Temp\\ipykernel_12612\\1497150668.py:1: DtypeWarning: Columns (8) have mixed types. Specify dtype option on import or set low_memory=False.\n",
      "  df1 = pd.read_csv('US_PopAgeStruct_20230713030811.csv')\n"
     ]
    }
   ],
   "source": [
    "df1 = pd.read_csv('US_PopAgeStruct_20230713030811.csv')\n",
    "df2 = pd.read_csv('US_PopDependency_20230713030812.csv')\n",
    "df3 = pd.read_csv('US_PopGR_20230713030828.csv')\n",
    "df4 = pd.read_csv('US_PopTotal_20230713030810.csv')"
   ]
  },
  {
   "cell_type": "code",
   "execution_count": 4,
   "metadata": {},
   "outputs": [
    {
     "name": "stdout",
     "output_type": "stream",
     "text": [
      "(2083686, 10)\n",
      "(94410, 8)\n",
      "(31884, 7)\n",
      "(31571, 9)\n"
     ]
    }
   ],
   "source": [
    "print(df1.shape)\n",
    "print(df2.shape)\n",
    "print(df3.shape)\n",
    "print(df4.shape)"
   ]
  },
  {
   "cell_type": "code",
   "execution_count": 5,
   "metadata": {},
   "outputs": [
    {
     "name": "stdout",
     "output_type": "stream",
     "text": [
      "<class 'pandas.core.frame.DataFrame'>\n",
      "RangeIndex: 2083686 entries, 0 to 2083685\n",
      "Data columns (total 10 columns):\n",
      " #   Column                                     Dtype  \n",
      "---  ------                                     -----  \n",
      " 0   Year                                       int64  \n",
      " 1   Economy                                    int64  \n",
      " 2   Economy Label                              object \n",
      " 3   Sex                                        int64  \n",
      " 4   Sex Label                                  object \n",
      " 5   AgeClass                                   int64  \n",
      " 6   AgeClass Label                             object \n",
      " 7   Absolute value in thousands                float64\n",
      " 8   Absolute value in thousands Footnote       object \n",
      " 9   Absolute value in thousands Missing value  object \n",
      "dtypes: float64(1), int64(4), object(5)\n",
      "memory usage: 159.0+ MB\n"
     ]
    }
   ],
   "source": [
    "df1.info()"
   ]
  },
  {
   "cell_type": "code",
   "execution_count": 6,
   "metadata": {},
   "outputs": [
    {
     "name": "stdout",
     "output_type": "stream",
     "text": [
      "<class 'pandas.core.frame.DataFrame'>\n",
      "RangeIndex: 94410 entries, 0 to 94409\n",
      "Data columns (total 8 columns):\n",
      " #   Column                                                Non-Null Count  Dtype  \n",
      "---  ------                                                --------------  -----  \n",
      " 0   Series                                                94410 non-null  int64  \n",
      " 1   Series Label                                          94410 non-null  object \n",
      " 2   Year                                                  94410 non-null  int64  \n",
      " 3   Economy                                               94410 non-null  int64  \n",
      " 4   Economy Label                                         94410 non-null  object \n",
      " 5   Persons per hundred persons aged 15-64                86775 non-null  float64\n",
      " 6   Persons per hundred persons aged 15-64 Footnote       0 non-null      float64\n",
      " 7   Persons per hundred persons aged 15-64 Missing value  7635 non-null   object \n",
      "dtypes: float64(2), int64(3), object(3)\n",
      "memory usage: 5.8+ MB\n"
     ]
    }
   ],
   "source": [
    "df2.info()"
   ]
  },
  {
   "cell_type": "code",
   "execution_count": 7,
   "metadata": {},
   "outputs": [
    {
     "name": "stdout",
     "output_type": "stream",
     "text": [
      "<class 'pandas.core.frame.DataFrame'>\n",
      "RangeIndex: 31884 entries, 0 to 31883\n",
      "Data columns (total 7 columns):\n",
      " #   Column                                    Non-Null Count  Dtype  \n",
      "---  ------                                    --------------  -----  \n",
      " 0   Period                                    31884 non-null  int64  \n",
      " 1   Period Label                              31884 non-null  object \n",
      " 2   Economy                                   31884 non-null  int64  \n",
      " 3   Economy Label                             31884 non-null  object \n",
      " 4   Annual average growth rate                29314 non-null  float64\n",
      " 5   Annual average growth rate Footnote       6 non-null      object \n",
      " 6   Annual average growth rate Missing value  2570 non-null   object \n",
      "dtypes: float64(1), int64(2), object(4)\n",
      "memory usage: 1.7+ MB\n"
     ]
    }
   ],
   "source": [
    "df3.info()"
   ]
  },
  {
   "cell_type": "code",
   "execution_count": 8,
   "metadata": {},
   "outputs": [
    {
     "name": "stdout",
     "output_type": "stream",
     "text": [
      "<class 'pandas.core.frame.DataFrame'>\n",
      "RangeIndex: 31571 entries, 0 to 31570\n",
      "Data columns (total 9 columns):\n",
      " #   Column                                                            Non-Null Count  Dtype  \n",
      "---  ------                                                            --------------  -----  \n",
      " 0   Year                                                              31571 non-null  int64  \n",
      " 1   Economy                                                           31571 non-null  int64  \n",
      " 2   Economy Label                                                     31571 non-null  object \n",
      " 3   Absolute value in thousands                                       29026 non-null  float64\n",
      " 4   Absolute value in thousands Footnote                              3 non-null      object \n",
      " 5   Absolute value in thousands Missing value                         2545 non-null   object \n",
      " 6   Urban population as percentage of total population                29026 non-null  float64\n",
      " 7   Urban population as percentage of total population Footnote       0 non-null      float64\n",
      " 8   Urban population as percentage of total population Missing value  2545 non-null   object \n",
      "dtypes: float64(3), int64(2), object(4)\n",
      "memory usage: 2.2+ MB\n"
     ]
    }
   ],
   "source": [
    "df4.info()"
   ]
  },
  {
   "cell_type": "code",
   "execution_count": 19,
   "metadata": {},
   "outputs": [
    {
     "data": {
      "text/html": [
       "<div>\n",
       "<style scoped>\n",
       "    .dataframe tbody tr th:only-of-type {\n",
       "        vertical-align: middle;\n",
       "    }\n",
       "\n",
       "    .dataframe tbody tr th {\n",
       "        vertical-align: top;\n",
       "    }\n",
       "\n",
       "    .dataframe thead th {\n",
       "        text-align: right;\n",
       "    }\n",
       "</style>\n",
       "<table border=\"1\" class=\"dataframe\">\n",
       "  <thead>\n",
       "    <tr style=\"text-align: right;\">\n",
       "      <th></th>\n",
       "      <th>Year</th>\n",
       "      <th>Economy</th>\n",
       "      <th>Economy Label</th>\n",
       "      <th>Sex</th>\n",
       "      <th>Sex Label</th>\n",
       "      <th>AgeClass</th>\n",
       "      <th>AgeClass Label</th>\n",
       "      <th>Absolute value in thousands</th>\n",
       "      <th>Absolute value in thousands Footnote</th>\n",
       "      <th>Absolute value in thousands Missing value</th>\n",
       "    </tr>\n",
       "  </thead>\n",
       "  <tbody>\n",
       "    <tr>\n",
       "      <th>0</th>\n",
       "      <td>1950</td>\n",
       "      <td>1</td>\n",
       "      <td>Individual economies</td>\n",
       "      <td>0</td>\n",
       "      <td>Both sexes</td>\n",
       "      <td>0</td>\n",
       "      <td>All age classes</td>\n",
       "      <td>NaN</td>\n",
       "      <td>NaN</td>\n",
       "      <td>Not applicable</td>\n",
       "    </tr>\n",
       "    <tr>\n",
       "      <th>1</th>\n",
       "      <td>1950</td>\n",
       "      <td>1</td>\n",
       "      <td>Individual economies</td>\n",
       "      <td>0</td>\n",
       "      <td>Both sexes</td>\n",
       "      <td>1</td>\n",
       "      <td>[0-4]</td>\n",
       "      <td>NaN</td>\n",
       "      <td>NaN</td>\n",
       "      <td>Not applicable</td>\n",
       "    </tr>\n",
       "    <tr>\n",
       "      <th>2</th>\n",
       "      <td>1950</td>\n",
       "      <td>1</td>\n",
       "      <td>Individual economies</td>\n",
       "      <td>0</td>\n",
       "      <td>Both sexes</td>\n",
       "      <td>2</td>\n",
       "      <td>[5-9]</td>\n",
       "      <td>NaN</td>\n",
       "      <td>NaN</td>\n",
       "      <td>Not applicable</td>\n",
       "    </tr>\n",
       "    <tr>\n",
       "      <th>3</th>\n",
       "      <td>1950</td>\n",
       "      <td>1</td>\n",
       "      <td>Individual economies</td>\n",
       "      <td>0</td>\n",
       "      <td>Both sexes</td>\n",
       "      <td>3</td>\n",
       "      <td>[10-14]</td>\n",
       "      <td>NaN</td>\n",
       "      <td>NaN</td>\n",
       "      <td>Not applicable</td>\n",
       "    </tr>\n",
       "    <tr>\n",
       "      <th>4</th>\n",
       "      <td>1950</td>\n",
       "      <td>1</td>\n",
       "      <td>Individual economies</td>\n",
       "      <td>0</td>\n",
       "      <td>Both sexes</td>\n",
       "      <td>4</td>\n",
       "      <td>[15-19]</td>\n",
       "      <td>NaN</td>\n",
       "      <td>NaN</td>\n",
       "      <td>Not applicable</td>\n",
       "    </tr>\n",
       "  </tbody>\n",
       "</table>\n",
       "</div>"
      ],
      "text/plain": [
       "   Year  Economy         Economy Label  Sex   Sex Label  AgeClass  \\\n",
       "0  1950        1  Individual economies    0  Both sexes         0   \n",
       "1  1950        1  Individual economies    0  Both sexes         1   \n",
       "2  1950        1  Individual economies    0  Both sexes         2   \n",
       "3  1950        1  Individual economies    0  Both sexes         3   \n",
       "4  1950        1  Individual economies    0  Both sexes         4   \n",
       "\n",
       "    AgeClass Label  Absolute value in thousands  \\\n",
       "0  All age classes                          NaN   \n",
       "1            [0-4]                          NaN   \n",
       "2            [5-9]                          NaN   \n",
       "3          [10-14]                          NaN   \n",
       "4          [15-19]                          NaN   \n",
       "\n",
       "  Absolute value in thousands Footnote  \\\n",
       "0                                  NaN   \n",
       "1                                  NaN   \n",
       "2                                  NaN   \n",
       "3                                  NaN   \n",
       "4                                  NaN   \n",
       "\n",
       "  Absolute value in thousands Missing value  \n",
       "0                            Not applicable  \n",
       "1                            Not applicable  \n",
       "2                            Not applicable  \n",
       "3                            Not applicable  \n",
       "4                            Not applicable  "
      ]
     },
     "execution_count": 19,
     "metadata": {},
     "output_type": "execute_result"
    }
   ],
   "source": [
    "df1.head()"
   ]
  },
  {
   "cell_type": "code",
   "execution_count": 18,
   "metadata": {},
   "outputs": [
    {
     "data": {
      "text/html": [
       "<div>\n",
       "<style scoped>\n",
       "    .dataframe tbody tr th:only-of-type {\n",
       "        vertical-align: middle;\n",
       "    }\n",
       "\n",
       "    .dataframe tbody tr th {\n",
       "        vertical-align: top;\n",
       "    }\n",
       "\n",
       "    .dataframe thead th {\n",
       "        text-align: right;\n",
       "    }\n",
       "</style>\n",
       "<table border=\"1\" class=\"dataframe\">\n",
       "  <thead>\n",
       "    <tr style=\"text-align: right;\">\n",
       "      <th></th>\n",
       "      <th>Period</th>\n",
       "      <th>Period Label</th>\n",
       "      <th>Economy</th>\n",
       "      <th>Economy Label</th>\n",
       "      <th>Annual average growth rate</th>\n",
       "      <th>Annual average growth rate Footnote</th>\n",
       "      <th>Annual average growth rate Missing value</th>\n",
       "    </tr>\n",
       "  </thead>\n",
       "  <tbody>\n",
       "    <tr>\n",
       "      <th>0</th>\n",
       "      <td>20162021</td>\n",
       "      <td>2016-2021</td>\n",
       "      <td>1</td>\n",
       "      <td>Individual economies</td>\n",
       "      <td>NaN</td>\n",
       "      <td>NaN</td>\n",
       "      <td>Not applicable</td>\n",
       "    </tr>\n",
       "    <tr>\n",
       "      <th>1</th>\n",
       "      <td>20162021</td>\n",
       "      <td>2016-2021</td>\n",
       "      <td>4</td>\n",
       "      <td>Afghanistan</td>\n",
       "      <td>2.92927</td>\n",
       "      <td>NaN</td>\n",
       "      <td>NaN</td>\n",
       "    </tr>\n",
       "    <tr>\n",
       "      <th>2</th>\n",
       "      <td>20162021</td>\n",
       "      <td>2016-2021</td>\n",
       "      <td>8</td>\n",
       "      <td>Albania</td>\n",
       "      <td>-0.18378</td>\n",
       "      <td>NaN</td>\n",
       "      <td>NaN</td>\n",
       "    </tr>\n",
       "    <tr>\n",
       "      <th>3</th>\n",
       "      <td>20162021</td>\n",
       "      <td>2016-2021</td>\n",
       "      <td>12</td>\n",
       "      <td>Algeria</td>\n",
       "      <td>1.81799</td>\n",
       "      <td>NaN</td>\n",
       "      <td>NaN</td>\n",
       "    </tr>\n",
       "    <tr>\n",
       "      <th>4</th>\n",
       "      <td>20162021</td>\n",
       "      <td>2016-2021</td>\n",
       "      <td>16</td>\n",
       "      <td>American Samoa</td>\n",
       "      <td>-2.27006</td>\n",
       "      <td>NaN</td>\n",
       "      <td>NaN</td>\n",
       "    </tr>\n",
       "  </tbody>\n",
       "</table>\n",
       "</div>"
      ],
      "text/plain": [
       "     Period Period Label  Economy         Economy Label  \\\n",
       "0  20162021    2016-2021        1  Individual economies   \n",
       "1  20162021    2016-2021        4           Afghanistan   \n",
       "2  20162021    2016-2021        8               Albania   \n",
       "3  20162021    2016-2021       12               Algeria   \n",
       "4  20162021    2016-2021       16        American Samoa   \n",
       "\n",
       "   Annual average growth rate Annual average growth rate Footnote  \\\n",
       "0                         NaN                                 NaN   \n",
       "1                     2.92927                                 NaN   \n",
       "2                    -0.18378                                 NaN   \n",
       "3                     1.81799                                 NaN   \n",
       "4                    -2.27006                                 NaN   \n",
       "\n",
       "  Annual average growth rate Missing value  \n",
       "0                           Not applicable  \n",
       "1                                      NaN  \n",
       "2                                      NaN  \n",
       "3                                      NaN  \n",
       "4                                      NaN  "
      ]
     },
     "execution_count": 18,
     "metadata": {},
     "output_type": "execute_result"
    }
   ],
   "source": [
    "df3.head()"
   ]
  },
  {
   "cell_type": "markdown",
   "metadata": {},
   "source": [
    "Cleaning df3 to replace period, period label with year."
   ]
  },
  {
   "cell_type": "code",
   "execution_count": 15,
   "metadata": {},
   "outputs": [
    {
     "data": {
      "text/plain": [
       "array([20162021, 20212050, 19501951, 19511952, 19521953, 19531954,\n",
       "       19541955, 19551956, 19561957, 19571958, 19581959, 19591960,\n",
       "       19601961, 19611962, 19621963, 19631964, 19641965, 19651966,\n",
       "       19661967, 19671968, 19681969, 19691970, 19701971, 19711972,\n",
       "       19721973, 19731974, 19741975, 19751976, 19761977, 19771978,\n",
       "       19781979, 19791980, 19801981, 19811982, 19821983, 19831984,\n",
       "       19841985, 19851986, 19861987, 19871988, 19881989, 19891990,\n",
       "       19901991, 19911992, 19921993, 19931994, 19941995, 19951996,\n",
       "       19961997, 19971998, 19981999, 19992000, 20002001, 20012002,\n",
       "       20022003, 20032004, 20042005, 20052006, 20062007, 20072008,\n",
       "       20082009, 20092010, 20102011, 20112012, 20122013, 20132014,\n",
       "       20142015, 20152016, 20162017, 20172018, 20182019, 20192020,\n",
       "       20202021, 20212022, 20222023, 20232024, 20242025, 20252026,\n",
       "       20262027, 20272028, 20282029, 20292030, 20302031, 20312032,\n",
       "       20322033, 20332034, 20342035, 20352036, 20362037, 20372038,\n",
       "       20382039, 20392040, 20402041, 20412042, 20422043, 20432044,\n",
       "       20442045, 20452046, 20462047, 20472048, 20482049, 20492050],\n",
       "      dtype=int64)"
      ]
     },
     "execution_count": 15,
     "metadata": {},
     "output_type": "execute_result"
    }
   ],
   "source": [
    "df3['Period'].unique()"
   ]
  },
  {
   "cell_type": "code",
   "execution_count": 21,
   "metadata": {},
   "outputs": [],
   "source": [
    "def average_period(period):\n",
    "    start_year = int(str(period)[:4])\n",
    "    end_year = int(str(period)[4:])\n",
    "    return (start_year+end_year)//2"
   ]
  },
  {
   "cell_type": "code",
   "execution_count": 24,
   "metadata": {},
   "outputs": [],
   "source": [
    "df3['Year'] = df3['Period'].apply(average_period)"
   ]
  },
  {
   "cell_type": "code",
   "execution_count": 25,
   "metadata": {},
   "outputs": [
    {
     "data": {
      "text/html": [
       "<div>\n",
       "<style scoped>\n",
       "    .dataframe tbody tr th:only-of-type {\n",
       "        vertical-align: middle;\n",
       "    }\n",
       "\n",
       "    .dataframe tbody tr th {\n",
       "        vertical-align: top;\n",
       "    }\n",
       "\n",
       "    .dataframe thead th {\n",
       "        text-align: right;\n",
       "    }\n",
       "</style>\n",
       "<table border=\"1\" class=\"dataframe\">\n",
       "  <thead>\n",
       "    <tr style=\"text-align: right;\">\n",
       "      <th></th>\n",
       "      <th>Period</th>\n",
       "      <th>Period Label</th>\n",
       "      <th>Economy</th>\n",
       "      <th>Economy Label</th>\n",
       "      <th>Annual average growth rate</th>\n",
       "      <th>Annual average growth rate Footnote</th>\n",
       "      <th>Annual average growth rate Missing value</th>\n",
       "      <th>Year</th>\n",
       "    </tr>\n",
       "  </thead>\n",
       "  <tbody>\n",
       "    <tr>\n",
       "      <th>0</th>\n",
       "      <td>20162021</td>\n",
       "      <td>2016-2021</td>\n",
       "      <td>1</td>\n",
       "      <td>Individual economies</td>\n",
       "      <td>NaN</td>\n",
       "      <td>NaN</td>\n",
       "      <td>Not applicable</td>\n",
       "      <td>2018</td>\n",
       "    </tr>\n",
       "    <tr>\n",
       "      <th>1</th>\n",
       "      <td>20162021</td>\n",
       "      <td>2016-2021</td>\n",
       "      <td>4</td>\n",
       "      <td>Afghanistan</td>\n",
       "      <td>2.92927</td>\n",
       "      <td>NaN</td>\n",
       "      <td>NaN</td>\n",
       "      <td>2018</td>\n",
       "    </tr>\n",
       "    <tr>\n",
       "      <th>2</th>\n",
       "      <td>20162021</td>\n",
       "      <td>2016-2021</td>\n",
       "      <td>8</td>\n",
       "      <td>Albania</td>\n",
       "      <td>-0.18378</td>\n",
       "      <td>NaN</td>\n",
       "      <td>NaN</td>\n",
       "      <td>2018</td>\n",
       "    </tr>\n",
       "    <tr>\n",
       "      <th>3</th>\n",
       "      <td>20162021</td>\n",
       "      <td>2016-2021</td>\n",
       "      <td>12</td>\n",
       "      <td>Algeria</td>\n",
       "      <td>1.81799</td>\n",
       "      <td>NaN</td>\n",
       "      <td>NaN</td>\n",
       "      <td>2018</td>\n",
       "    </tr>\n",
       "    <tr>\n",
       "      <th>4</th>\n",
       "      <td>20162021</td>\n",
       "      <td>2016-2021</td>\n",
       "      <td>16</td>\n",
       "      <td>American Samoa</td>\n",
       "      <td>-2.27006</td>\n",
       "      <td>NaN</td>\n",
       "      <td>NaN</td>\n",
       "      <td>2018</td>\n",
       "    </tr>\n",
       "  </tbody>\n",
       "</table>\n",
       "</div>"
      ],
      "text/plain": [
       "     Period Period Label  Economy         Economy Label  \\\n",
       "0  20162021    2016-2021        1  Individual economies   \n",
       "1  20162021    2016-2021        4           Afghanistan   \n",
       "2  20162021    2016-2021        8               Albania   \n",
       "3  20162021    2016-2021       12               Algeria   \n",
       "4  20162021    2016-2021       16        American Samoa   \n",
       "\n",
       "   Annual average growth rate Annual average growth rate Footnote  \\\n",
       "0                         NaN                                 NaN   \n",
       "1                     2.92927                                 NaN   \n",
       "2                    -0.18378                                 NaN   \n",
       "3                     1.81799                                 NaN   \n",
       "4                    -2.27006                                 NaN   \n",
       "\n",
       "  Annual average growth rate Missing value  Year  \n",
       "0                           Not applicable  2018  \n",
       "1                                      NaN  2018  \n",
       "2                                      NaN  2018  \n",
       "3                                      NaN  2018  \n",
       "4                                      NaN  2018  "
      ]
     },
     "execution_count": 25,
     "metadata": {},
     "output_type": "execute_result"
    }
   ],
   "source": [
    "df3.head()"
   ]
  },
  {
   "cell_type": "code",
   "execution_count": 27,
   "metadata": {},
   "outputs": [
    {
     "data": {
      "text/html": [
       "<div>\n",
       "<style scoped>\n",
       "    .dataframe tbody tr th:only-of-type {\n",
       "        vertical-align: middle;\n",
       "    }\n",
       "\n",
       "    .dataframe tbody tr th {\n",
       "        vertical-align: top;\n",
       "    }\n",
       "\n",
       "    .dataframe thead th {\n",
       "        text-align: right;\n",
       "    }\n",
       "</style>\n",
       "<table border=\"1\" class=\"dataframe\">\n",
       "  <thead>\n",
       "    <tr style=\"text-align: right;\">\n",
       "      <th></th>\n",
       "      <th>Economy</th>\n",
       "      <th>Economy Label</th>\n",
       "      <th>Annual average growth rate</th>\n",
       "      <th>Annual average growth rate Footnote</th>\n",
       "      <th>Annual average growth rate Missing value</th>\n",
       "      <th>Year</th>\n",
       "    </tr>\n",
       "  </thead>\n",
       "  <tbody>\n",
       "    <tr>\n",
       "      <th>0</th>\n",
       "      <td>1</td>\n",
       "      <td>Individual economies</td>\n",
       "      <td>NaN</td>\n",
       "      <td>NaN</td>\n",
       "      <td>Not applicable</td>\n",
       "      <td>2018</td>\n",
       "    </tr>\n",
       "    <tr>\n",
       "      <th>1</th>\n",
       "      <td>4</td>\n",
       "      <td>Afghanistan</td>\n",
       "      <td>2.92927</td>\n",
       "      <td>NaN</td>\n",
       "      <td>NaN</td>\n",
       "      <td>2018</td>\n",
       "    </tr>\n",
       "    <tr>\n",
       "      <th>2</th>\n",
       "      <td>8</td>\n",
       "      <td>Albania</td>\n",
       "      <td>-0.18378</td>\n",
       "      <td>NaN</td>\n",
       "      <td>NaN</td>\n",
       "      <td>2018</td>\n",
       "    </tr>\n",
       "    <tr>\n",
       "      <th>3</th>\n",
       "      <td>12</td>\n",
       "      <td>Algeria</td>\n",
       "      <td>1.81799</td>\n",
       "      <td>NaN</td>\n",
       "      <td>NaN</td>\n",
       "      <td>2018</td>\n",
       "    </tr>\n",
       "    <tr>\n",
       "      <th>4</th>\n",
       "      <td>16</td>\n",
       "      <td>American Samoa</td>\n",
       "      <td>-2.27006</td>\n",
       "      <td>NaN</td>\n",
       "      <td>NaN</td>\n",
       "      <td>2018</td>\n",
       "    </tr>\n",
       "  </tbody>\n",
       "</table>\n",
       "</div>"
      ],
      "text/plain": [
       "   Economy         Economy Label  Annual average growth rate  \\\n",
       "0        1  Individual economies                         NaN   \n",
       "1        4           Afghanistan                     2.92927   \n",
       "2        8               Albania                    -0.18378   \n",
       "3       12               Algeria                     1.81799   \n",
       "4       16        American Samoa                    -2.27006   \n",
       "\n",
       "  Annual average growth rate Footnote  \\\n",
       "0                                 NaN   \n",
       "1                                 NaN   \n",
       "2                                 NaN   \n",
       "3                                 NaN   \n",
       "4                                 NaN   \n",
       "\n",
       "  Annual average growth rate Missing value  Year  \n",
       "0                           Not applicable  2018  \n",
       "1                                      NaN  2018  \n",
       "2                                      NaN  2018  \n",
       "3                                      NaN  2018  \n",
       "4                                      NaN  2018  "
      ]
     },
     "execution_count": 27,
     "metadata": {},
     "output_type": "execute_result"
    }
   ],
   "source": [
    "df3 = df3.drop(['Period', 'Period Label'], axis=1)\n",
    "df3.head()"
   ]
  },
  {
   "cell_type": "markdown",
   "metadata": {},
   "source": [
    "Task-1 Merging files into a single DataFrame"
   ]
  },
  {
   "cell_type": "code",
   "execution_count": 28,
   "metadata": {},
   "outputs": [
    {
     "name": "stdout",
     "output_type": "stream",
     "text": [
      "<class 'pandas.core.frame.DataFrame'>\n",
      "RangeIndex: 6361410 entries, 0 to 6361409\n",
      "Data columns (total 24 columns):\n",
      " #   Column                                                            Dtype  \n",
      "---  ------                                                            -----  \n",
      " 0   Year                                                              int64  \n",
      " 1   Economy                                                           int64  \n",
      " 2   Economy Label                                                     object \n",
      " 3   Sex                                                               int64  \n",
      " 4   Sex Label                                                         object \n",
      " 5   AgeClass                                                          int64  \n",
      " 6   AgeClass Label                                                    object \n",
      " 7   Absolute value in thousands_x                                     float64\n",
      " 8   Absolute value in thousands Footnote_x                            object \n",
      " 9   Absolute value in thousands Missing value_x                       object \n",
      " 10  Series                                                            float64\n",
      " 11  Series Label                                                      object \n",
      " 12  Persons per hundred persons aged 15-64                            float64\n",
      " 13  Persons per hundred persons aged 15-64 Footnote                   float64\n",
      " 14  Persons per hundred persons aged 15-64 Missing value              object \n",
      " 15  Annual average growth rate                                        float64\n",
      " 16  Annual average growth rate Footnote                               object \n",
      " 17  Annual average growth rate Missing value                          object \n",
      " 18  Absolute value in thousands_y                                     float64\n",
      " 19  Absolute value in thousands Footnote_y                            object \n",
      " 20  Absolute value in thousands Missing value_y                       object \n",
      " 21  Urban population as percentage of total population                float64\n",
      " 22  Urban population as percentage of total population Footnote       float64\n",
      " 23  Urban population as percentage of total population Missing value  object \n",
      "dtypes: float64(8), int64(4), object(12)\n",
      "memory usage: 1.1+ GB\n"
     ]
    }
   ],
   "source": [
    "df_merged_1_2 = pd.merge(df1, df2, on=['Year', 'Economy', 'Economy Label'], how='outer')\n",
    "df_merged_1_2_3 = pd.merge(df_merged_1_2, df3, on=['Year', 'Economy', 'Economy Label'], how='outer')\n",
    "df_final = pd.merge(df_merged_1_2_3, df4, on=['Year', 'Economy', 'Economy Label'], how='outer')\n",
    "df_final.info()"
   ]
  },
  {
   "cell_type": "markdown",
   "metadata": {},
   "source": [
    "Task-2 Data Cleaning"
   ]
  },
  {
   "cell_type": "code",
   "execution_count": 29,
   "metadata": {},
   "outputs": [
    {
     "data": {
      "text/plain": [
       "Year                                                                      0\n",
       "Economy                                                                   0\n",
       "Economy Label                                                             0\n",
       "Sex                                                                       0\n",
       "Sex Label                                                                 0\n",
       "AgeClass                                                                  0\n",
       "AgeClass Label                                                            0\n",
       "Absolute value in thousands_x                                        515753\n",
       "Absolute value in thousands Footnote_x                              6361401\n",
       "Absolute value in thousands Missing value_x                         5845657\n",
       "Series                                                                 6798\n",
       "Series Label                                                           6798\n",
       "Persons per hundred persons aged 15-64                               515856\n",
       "Persons per hundred persons aged 15-64 Footnote                     6361410\n",
       "Persons per hundred persons aged 15-64 Missing value                5852352\n",
       "Annual average growth rate                                           570702\n",
       "Annual average growth rate Footnote                                 6360222\n",
       "Annual average growth rate Missing value                            5852550\n",
       "Absolute value in thousands_y                                        509058\n",
       "Absolute value in thousands Footnote_y                              6360816\n",
       "Absolute value in thousands Missing value_y                         5852352\n",
       "Urban population as percentage of total population                   509058\n",
       "Urban population as percentage of total population Footnote         6361410\n",
       "Urban population as percentage of total population Missing value    5852352\n",
       "dtype: int64"
      ]
     },
     "execution_count": 29,
     "metadata": {},
     "output_type": "execute_result"
    }
   ],
   "source": [
    "df_final.isnull().sum()"
   ]
  },
  {
   "cell_type": "markdown",
   "metadata": {},
   "source": [
    "Dropping unnecessary columns"
   ]
  },
  {
   "cell_type": "code",
   "execution_count": 30,
   "metadata": {},
   "outputs": [],
   "source": [
    "columns_to_drop = ['Absolute value in thousands Footnote_x', \n",
    "                   'Absolute value in thousands Missing value_x', \n",
    "                   'Persons per hundred persons aged 15-64 Footnote', \n",
    "                   'Persons per hundred persons aged 15-64 Missing value', \n",
    "                   'Annual average growth rate Footnote', \n",
    "                   'Annual average growth rate Missing value', \n",
    "                   'Absolute value in thousands Footnote_y', \n",
    "                   'Absolute value in thousands Missing value_y', \n",
    "                   'Urban population as percentage of total population Footnote', \n",
    "                   'Urban population as percentage of total population Missing value']"
   ]
  },
  {
   "cell_type": "code",
   "execution_count": 31,
   "metadata": {},
   "outputs": [
    {
     "name": "stdout",
     "output_type": "stream",
     "text": [
      "<class 'pandas.core.frame.DataFrame'>\n",
      "RangeIndex: 6361410 entries, 0 to 6361409\n",
      "Data columns (total 14 columns):\n",
      " #   Column                                              Dtype  \n",
      "---  ------                                              -----  \n",
      " 0   Year                                                int64  \n",
      " 1   Economy                                             int64  \n",
      " 2   Economy Label                                       object \n",
      " 3   Sex                                                 int64  \n",
      " 4   Sex Label                                           object \n",
      " 5   AgeClass                                            int64  \n",
      " 6   AgeClass Label                                      object \n",
      " 7   Absolute value in thousands_x                       float64\n",
      " 8   Series                                              float64\n",
      " 9   Series Label                                        object \n",
      " 10  Persons per hundred persons aged 15-64              float64\n",
      " 11  Annual average growth rate                          float64\n",
      " 12  Absolute value in thousands_y                       float64\n",
      " 13  Urban population as percentage of total population  float64\n",
      "dtypes: float64(6), int64(4), object(4)\n",
      "memory usage: 679.5+ MB\n"
     ]
    }
   ],
   "source": [
    "df_final = df_final.drop(columns=columns_to_drop, axis=1)\n",
    "df_final.info()"
   ]
  },
  {
   "cell_type": "code",
   "execution_count": 32,
   "metadata": {},
   "outputs": [
    {
     "data": {
      "text/plain": [
       "Year                                                       0\n",
       "Economy                                                    0\n",
       "Economy Label                                              0\n",
       "Sex                                                        0\n",
       "Sex Label                                                  0\n",
       "AgeClass                                                   0\n",
       "AgeClass Label                                             0\n",
       "Absolute value in thousands_x                         515753\n",
       "Series                                                  6798\n",
       "Series Label                                            6798\n",
       "Persons per hundred persons aged 15-64                515856\n",
       "Annual average growth rate                            570702\n",
       "Absolute value in thousands_y                         509058\n",
       "Urban population as percentage of total population    509058\n",
       "dtype: int64"
      ]
     },
     "execution_count": 32,
     "metadata": {},
     "output_type": "execute_result"
    }
   ],
   "source": [
    "df_final.isnull().sum()"
   ]
  },
  {
   "cell_type": "code",
   "execution_count": 33,
   "metadata": {},
   "outputs": [
    {
     "data": {
      "text/plain": [
       "Index(['Year', 'Economy', 'Sex', 'AgeClass', 'Absolute value in thousands_x',\n",
       "       'Series', 'Persons per hundred persons aged 15-64',\n",
       "       'Annual average growth rate', 'Absolute value in thousands_y',\n",
       "       'Urban population as percentage of total population'],\n",
       "      dtype='object')"
      ]
     },
     "execution_count": 33,
     "metadata": {},
     "output_type": "execute_result"
    }
   ],
   "source": [
    "numeric_columns = df_final.select_dtypes(include=['float64', 'int64']).columns\n",
    "numeric_columns"
   ]
  },
  {
   "cell_type": "code",
   "execution_count": 34,
   "metadata": {},
   "outputs": [],
   "source": [
    "for col in numeric_columns:\n",
    "    df_final[col] = df_final[col].fillna(df_final[col].mean())"
   ]
  },
  {
   "cell_type": "code",
   "execution_count": 35,
   "metadata": {},
   "outputs": [
    {
     "data": {
      "text/plain": [
       "Year                                                     0\n",
       "Economy                                                  0\n",
       "Economy Label                                            0\n",
       "Sex                                                      0\n",
       "Sex Label                                                0\n",
       "AgeClass                                                 0\n",
       "AgeClass Label                                           0\n",
       "Absolute value in thousands_x                            0\n",
       "Series                                                   0\n",
       "Series Label                                          6798\n",
       "Persons per hundred persons aged 15-64                   0\n",
       "Annual average growth rate                               0\n",
       "Absolute value in thousands_y                            0\n",
       "Urban population as percentage of total population       0\n",
       "dtype: int64"
      ]
     },
     "execution_count": 35,
     "metadata": {},
     "output_type": "execute_result"
    }
   ],
   "source": [
    "df_final.isnull().sum()"
   ]
  },
  {
   "cell_type": "code",
   "execution_count": 36,
   "metadata": {},
   "outputs": [
    {
     "data": {
      "text/plain": [
       "Index(['Economy Label', 'Sex Label', 'AgeClass Label', 'Series Label'], dtype='object')"
      ]
     },
     "execution_count": 36,
     "metadata": {},
     "output_type": "execute_result"
    }
   ],
   "source": [
    "object_columns = df_final.select_dtypes(include=['object']).columns\n",
    "object_columns"
   ]
  },
  {
   "cell_type": "code",
   "execution_count": 37,
   "metadata": {},
   "outputs": [],
   "source": [
    "for col in object_columns:\n",
    "    df_final[col] = df_final[col].fillna(df_final[col].mode()[0])"
   ]
  },
  {
   "cell_type": "code",
   "execution_count": 38,
   "metadata": {},
   "outputs": [
    {
     "data": {
      "text/plain": [
       "Year                                                  0\n",
       "Economy                                               0\n",
       "Economy Label                                         0\n",
       "Sex                                                   0\n",
       "Sex Label                                             0\n",
       "AgeClass                                              0\n",
       "AgeClass Label                                        0\n",
       "Absolute value in thousands_x                         0\n",
       "Series                                                0\n",
       "Series Label                                          0\n",
       "Persons per hundred persons aged 15-64                0\n",
       "Annual average growth rate                            0\n",
       "Absolute value in thousands_y                         0\n",
       "Urban population as percentage of total population    0\n",
       "dtype: int64"
      ]
     },
     "execution_count": 38,
     "metadata": {},
     "output_type": "execute_result"
    }
   ],
   "source": [
    "df_final.isnull().sum()"
   ]
  },
  {
   "cell_type": "code",
   "execution_count": 40,
   "metadata": {},
   "outputs": [
    {
     "data": {
      "text/html": [
       "<div>\n",
       "<style scoped>\n",
       "    .dataframe tbody tr th:only-of-type {\n",
       "        vertical-align: middle;\n",
       "    }\n",
       "\n",
       "    .dataframe tbody tr th {\n",
       "        vertical-align: top;\n",
       "    }\n",
       "\n",
       "    .dataframe thead th {\n",
       "        text-align: right;\n",
       "    }\n",
       "</style>\n",
       "<table border=\"1\" class=\"dataframe\">\n",
       "  <thead>\n",
       "    <tr style=\"text-align: right;\">\n",
       "      <th></th>\n",
       "      <th>Year</th>\n",
       "      <th>Economy</th>\n",
       "      <th>Economy Label</th>\n",
       "      <th>Sex</th>\n",
       "      <th>Sex Label</th>\n",
       "      <th>AgeClass</th>\n",
       "      <th>AgeClass Label</th>\n",
       "      <th>Absolute value in thousands_x</th>\n",
       "      <th>Series</th>\n",
       "      <th>Series Label</th>\n",
       "      <th>Persons per hundred persons aged 15-64</th>\n",
       "      <th>Annual average growth rate</th>\n",
       "      <th>Absolute value in thousands_y</th>\n",
       "      <th>Urban population as percentage of total population</th>\n",
       "    </tr>\n",
       "  </thead>\n",
       "  <tbody>\n",
       "    <tr>\n",
       "      <th>0</th>\n",
       "      <td>1950</td>\n",
       "      <td>0</td>\n",
       "      <td>World</td>\n",
       "      <td>0</td>\n",
       "      <td>Both sexes</td>\n",
       "      <td>0</td>\n",
       "      <td>All age classes</td>\n",
       "      <td>2499322.166</td>\n",
       "      <td>7120.0</td>\n",
       "      <td>Total dependency ratio</td>\n",
       "      <td>66.242</td>\n",
       "      <td>1.73762</td>\n",
       "      <td>2499322.166</td>\n",
       "      <td>29.63511</td>\n",
       "    </tr>\n",
       "    <tr>\n",
       "      <th>1</th>\n",
       "      <td>1950</td>\n",
       "      <td>0</td>\n",
       "      <td>World</td>\n",
       "      <td>0</td>\n",
       "      <td>Both sexes</td>\n",
       "      <td>0</td>\n",
       "      <td>All age classes</td>\n",
       "      <td>2499322.166</td>\n",
       "      <td>7121.0</td>\n",
       "      <td>Old-age dependency ratio</td>\n",
       "      <td>8.528</td>\n",
       "      <td>1.73762</td>\n",
       "      <td>2499322.166</td>\n",
       "      <td>29.63511</td>\n",
       "    </tr>\n",
       "    <tr>\n",
       "      <th>2</th>\n",
       "      <td>1950</td>\n",
       "      <td>0</td>\n",
       "      <td>World</td>\n",
       "      <td>0</td>\n",
       "      <td>Both sexes</td>\n",
       "      <td>0</td>\n",
       "      <td>All age classes</td>\n",
       "      <td>2499322.166</td>\n",
       "      <td>7122.0</td>\n",
       "      <td>Child dependency ratio</td>\n",
       "      <td>57.714</td>\n",
       "      <td>1.73762</td>\n",
       "      <td>2499322.166</td>\n",
       "      <td>29.63511</td>\n",
       "    </tr>\n",
       "    <tr>\n",
       "      <th>3</th>\n",
       "      <td>1950</td>\n",
       "      <td>0</td>\n",
       "      <td>World</td>\n",
       "      <td>0</td>\n",
       "      <td>Both sexes</td>\n",
       "      <td>1</td>\n",
       "      <td>[0-4]</td>\n",
       "      <td>341876.795</td>\n",
       "      <td>7120.0</td>\n",
       "      <td>Total dependency ratio</td>\n",
       "      <td>66.242</td>\n",
       "      <td>1.73762</td>\n",
       "      <td>2499322.166</td>\n",
       "      <td>29.63511</td>\n",
       "    </tr>\n",
       "    <tr>\n",
       "      <th>4</th>\n",
       "      <td>1950</td>\n",
       "      <td>0</td>\n",
       "      <td>World</td>\n",
       "      <td>0</td>\n",
       "      <td>Both sexes</td>\n",
       "      <td>1</td>\n",
       "      <td>[0-4]</td>\n",
       "      <td>341876.795</td>\n",
       "      <td>7121.0</td>\n",
       "      <td>Old-age dependency ratio</td>\n",
       "      <td>8.528</td>\n",
       "      <td>1.73762</td>\n",
       "      <td>2499322.166</td>\n",
       "      <td>29.63511</td>\n",
       "    </tr>\n",
       "  </tbody>\n",
       "</table>\n",
       "</div>"
      ],
      "text/plain": [
       "   Year  Economy Economy Label  Sex   Sex Label  AgeClass   AgeClass Label  \\\n",
       "0  1950        0         World    0  Both sexes         0  All age classes   \n",
       "1  1950        0         World    0  Both sexes         0  All age classes   \n",
       "2  1950        0         World    0  Both sexes         0  All age classes   \n",
       "3  1950        0         World    0  Both sexes         1            [0-4]   \n",
       "4  1950        0         World    0  Both sexes         1            [0-4]   \n",
       "\n",
       "   Absolute value in thousands_x  Series              Series Label  \\\n",
       "0                    2499322.166  7120.0    Total dependency ratio   \n",
       "1                    2499322.166  7121.0  Old-age dependency ratio   \n",
       "2                    2499322.166  7122.0    Child dependency ratio   \n",
       "3                     341876.795  7120.0    Total dependency ratio   \n",
       "4                     341876.795  7121.0  Old-age dependency ratio   \n",
       "\n",
       "   Persons per hundred persons aged 15-64  Annual average growth rate  \\\n",
       "0                                  66.242                     1.73762   \n",
       "1                                   8.528                     1.73762   \n",
       "2                                  57.714                     1.73762   \n",
       "3                                  66.242                     1.73762   \n",
       "4                                   8.528                     1.73762   \n",
       "\n",
       "   Absolute value in thousands_y  \\\n",
       "0                    2499322.166   \n",
       "1                    2499322.166   \n",
       "2                    2499322.166   \n",
       "3                    2499322.166   \n",
       "4                    2499322.166   \n",
       "\n",
       "   Urban population as percentage of total population  \n",
       "0                                           29.63511   \n",
       "1                                           29.63511   \n",
       "2                                           29.63511   \n",
       "3                                           29.63511   \n",
       "4                                           29.63511   "
      ]
     },
     "execution_count": 40,
     "metadata": {},
     "output_type": "execute_result"
    }
   ],
   "source": [
    "df_final.head()"
   ]
  },
  {
   "cell_type": "code",
   "execution_count": 41,
   "metadata": {},
   "outputs": [],
   "source": [
    "df_final.to_csv('cleaned_data.csv', index=False)"
   ]
  }
 ],
 "metadata": {
  "kernelspec": {
   "display_name": "asn",
   "language": "python",
   "name": "python3"
  },
  "language_info": {
   "codemirror_mode": {
    "name": "ipython",
    "version": 3
   },
   "file_extension": ".py",
   "mimetype": "text/x-python",
   "name": "python",
   "nbconvert_exporter": "python",
   "pygments_lexer": "ipython3",
   "version": "3.10.11"
  }
 },
 "nbformat": 4,
 "nbformat_minor": 2
}
